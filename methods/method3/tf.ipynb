{
 "cells": [
  {
   "cell_type": "markdown",
   "metadata": {},
   "source": [
    "Load netCDF files in Tensorflow"
   ]
  },
  {
   "cell_type": "code",
   "execution_count": 1,
   "metadata": {},
   "outputs": [
    {
     "name": "stderr",
     "output_type": "stream",
     "text": [
      "/media/jtrvz/chugchug/Git/drought-detector/venv/lib/python3.10/site-packages/tqdm/auto.py:21: TqdmWarning: IProgress not found. Please update jupyter and ipywidgets. See https://ipywidgets.readthedocs.io/en/stable/user_install.html\n",
      "  from .autonotebook import tqdm as notebook_tqdm\n",
      "2024-04-17 11:08:15.215549: I external/local_tsl/tsl/cuda/cudart_stub.cc:32] Could not find cuda drivers on your machine, GPU will not be used.\n",
      "2024-04-17 11:08:15.284230: I external/local_tsl/tsl/cuda/cudart_stub.cc:32] Could not find cuda drivers on your machine, GPU will not be used.\n",
      "2024-04-17 11:08:15.535607: I tensorflow/core/platform/cpu_feature_guard.cc:210] This TensorFlow binary is optimized to use available CPU instructions in performance-critical operations.\n",
      "To enable the following instructions: AVX2 FMA, in other operations, rebuild TensorFlow with the appropriate compiler flags.\n",
      "2024-04-17 11:08:16.480567: W tensorflow/compiler/tf2tensorrt/utils/py_utils.cc:38] TF-TRT Warning: Could not find TensorRT\n"
     ]
    },
    {
     "name": "stdout",
     "output_type": "stream",
     "text": [
      "Tensorflow: 2.16.1\n",
      "Xarray: 2024.3.0\n",
      "netCDF4: 1.6.5\n"
     ]
    }
   ],
   "source": [
    "import numpy\n",
    "import netCDF4 as nc\n",
    "import xarray\n",
    "import tensorflow_datasets as tfds\n",
    "import tensorflow as tf\n",
    "import os\n",
    "import shutil\n",
    "import glob\n",
    "import plotly.express as px\n",
    "\n",
    "\n",
    "print(\"Tensorflow:\", tf.version.VERSION)\n",
    "print(\"Xarray:\", xarray.__version__)\n",
    "print(\"netCDF4:\", nc.__version__)"
   ]
  },
  {
   "cell_type": "code",
   "execution_count": 2,
   "metadata": {},
   "outputs": [],
   "source": [
    "temp_files_dir = \"/media/jtrvz/1tb/drought_data/temperature/era5/Germany/monthly/netcdf/avg\"\n",
    "prec_files_dir = \"/media/jtrvz/1tb/drought_data/precipitation/era5/Germany/monthly/netcdf/avg\""
   ]
  },
  {
   "cell_type": "markdown",
   "metadata": {},
   "source": [
    "Generator method"
   ]
  },
  {
   "cell_type": "code",
   "execution_count": 3,
   "metadata": {},
   "outputs": [],
   "source": [
    "def load_nc_dir_with_generator(dir_):\n",
    "    def gen():\n",
    "        for file in glob.glob(os.path.join(dir_, \"*.nc\")):\n",
    "            ds = xarray.open_dataset(file, engine='netcdf4')\n",
    "            yield {key: tf.convert_to_tensor(val) for key, val in ds.items()}\n",
    "\n",
    "\n",
    "    sample = next(iter(gen()))\n",
    "\n",
    "    return tf.data.Dataset.from_generator(\n",
    "        gen,\n",
    "        output_signature={\n",
    "            key: tf.TensorSpec(val.shape, dtype=val.dtype)\n",
    "            for key, val in sample.items()\n",
    "        }\n",
    "    )"
   ]
  },
  {
   "cell_type": "markdown",
   "metadata": {},
   "source": [
    "Load to tfrecords"
   ]
  },
  {
   "cell_type": "code",
   "execution_count": 4,
   "metadata": {},
   "outputs": [],
   "source": [
    "def load_nc_dir_cached_to_tfrecord(dir_, var, save_location):\n",
    "    \"\"\"\n",
    "    Save data to tfRecord, open it, and deserialize.\n",
    "    \n",
    "    Parameters\n",
    "    :param dir_: directory with netCDF files\n",
    "    :param var: variable to extract from netCDF files\n",
    "\n",
    "    \"\"\"\n",
    "    generator_tfds = load_nc_dir_with_generator(dir_)\n",
    "    writer = tf.data.experimental.TFRecordWriter(save_location)\n",
    "    writer.write(generator_tfds.map(lambda x: tf.io.serialize_tensor(x[var])))\n",
    "\n",
    "    return tf.data.TFRecordDataset(save_location).map(\n",
    "        lambda x: tf.io.parse_tensor(x, tf.float64))"
   ]
  },
  {
   "cell_type": "markdown",
   "metadata": {},
   "source": [
    "Example"
   ]
  },
  {
   "cell_type": "code",
   "execution_count": 5,
   "metadata": {},
   "outputs": [
    {
     "name": "stdout",
     "output_type": "stream",
     "text": [
      "WARNING:tensorflow:From /tmp/ipykernel_11071/667206970.py:11: TFRecordWriter.__init__ (from tensorflow.python.data.experimental.ops.writers) is deprecated and will be removed in a future version.\n",
      "Instructions for updating:\n",
      "To write TFRecords to disk, use `tf.io.TFRecordWriter`. To save and load the contents of a dataset, use `tf.data.experimental.save` and `tf.data.experimental.load`\n"
     ]
    }
   ],
   "source": [
    "temp_tfrecord = load_nc_dir_cached_to_tfrecord(temp_files_dir, \"t2m\", \"temp.tfrecord\")\n",
    "prec_tfrecord = load_nc_dir_cached_to_tfrecord(prec_files_dir, \"tp\", \"prec.tfrecord\")"
   ]
  },
  {
   "cell_type": "code",
   "execution_count": null,
   "metadata": {},
   "outputs": [],
   "source": []
  }
 ],
 "metadata": {
  "kernelspec": {
   "display_name": "venv",
   "language": "python",
   "name": "python3"
  },
  "language_info": {
   "codemirror_mode": {
    "name": "ipython",
    "version": 3
   },
   "file_extension": ".py",
   "mimetype": "text/x-python",
   "name": "python",
   "nbconvert_exporter": "python",
   "pygments_lexer": "ipython3",
   "version": "3.10.12"
  }
 },
 "nbformat": 4,
 "nbformat_minor": 2
}
