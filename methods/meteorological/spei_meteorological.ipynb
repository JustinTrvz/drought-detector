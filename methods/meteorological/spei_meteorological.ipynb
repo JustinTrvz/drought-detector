{
 "cells": [
  {
   "cell_type": "markdown",
   "metadata": {},
   "source": [
    "# SPEI calculation using meteorological data"
   ]
  },
  {
   "cell_type": "markdown",
   "metadata": {},
   "source": [
    "Using temperature and precipitation data from \"Deutscher Wetterdienst\" (DWD) (German weather service) which rely on the CRS **EPSG:31467**.\\\n",
    "The data is stored in ASCII files."
   ]
  },
  {
   "cell_type": "markdown",
   "metadata": {},
   "source": [
    "Unzip all `.asc.gz` files at once:\\\n",
    "`find . -type f -name \"*.gz\" -exec gunzip {} +`"
   ]
  },
  {
   "cell_type": "markdown",
   "metadata": {},
   "source": [
    "## Read .asc files"
   ]
  },
  {
   "cell_type": "code",
   "execution_count": 1,
   "metadata": {},
   "outputs": [],
   "source": [
    "import numpy as np\n",
    "from datetime import datetime"
   ]
  },
  {
   "cell_type": "code",
   "execution_count": 2,
   "metadata": {},
   "outputs": [],
   "source": [
    "# def read_asc_file(filepath):\n",
    "#     \"\"\"Reads an .asc file and returns the data as a numpy array.\"\"\"\n",
    "#     with open(filepath, 'r') as file:\n",
    "#         header = [next(file) for _ in range(6)]\n",
    "#         header_info = {\n",
    "#             'ncols': int(header[0].split()[1]),\n",
    "#             'nrows': int(header[1].split()[1]),\n",
    "#             'xllcorner': float(header[2].split()[1]),\n",
    "#             'yllcorner': float(header[3].split()[1]),\n",
    "#             'cellsize': float(header[4].split()[1]),\n",
    "#             'nodata_val': float(header[5].split()[1]),\n",
    "#         }\n",
    "#         data = np.loadtxt(file)\n",
    "#         data[data == header_info['nodata_val']] = np.nan  # Convert NoData values to NaN\n",
    "#     return data, header_info"
   ]
  },
  {
   "cell_type": "code",
   "execution_count": 3,
   "metadata": {},
   "outputs": [],
   "source": [
    "def read_asc_file(filepath):\n",
    "    \"\"\"Reads an .asc file with a variable header size and returns the data as a numpy array.\"\"\"\n",
    "    header_keys = ['NCOLS', 'NROWS', 'XLLCORNER', 'YLLCORNER', 'CELLSIZE', 'NODATA_VALUE']\n",
    "    header_info = {}\n",
    "\n",
    "    with open(filepath, 'r') as file:\n",
    "        line = file.readline()\n",
    "        while line:\n",
    "            parts = line.strip().split()\n",
    "            if parts[0].upper() in header_keys:\n",
    "                header_info[parts[0].lower()] = float(parts[1]) if parts[0].upper() != 'NCOLS' and parts[0].upper() != 'NROWS' else int(parts[1])\n",
    "                if len(header_info) == len(header_keys):  # Break the loop if all necessary header info is collected\n",
    "                    break\n",
    "            line = file.readline()\n",
    "\n",
    "        data = np.loadtxt(file, skiprows=0)  # No need to skip rows now, as the file pointer is already at the right position\n",
    "        data[data == header_info['nodata_value']] = np.nan  # Convert NoData values to NaN\n",
    "    \n",
    "    return data, header_info"
   ]
  },
  {
   "cell_type": "markdown",
   "metadata": {},
   "source": [
    "# Estimate PET using Thornthwaite"
   ]
  },
  {
   "cell_type": "code",
   "execution_count": 4,
   "metadata": {},
   "outputs": [],
   "source": [
    "# grids_germany_monthly_air_temp_mean_202201.asc\n",
    "# grids_germany_monthly_precipitation_202201.asc\n",
    "temp_save_dir = \"/media/jtrvz/1tb/drought_data/temperature/dwd/avg\"\n",
    "prec_save_dir = \"/media/jtrvz/1tb/drought_data/precipitation/dwd/avg\"\n",
    "\n",
    "temp_file_prefix = \"grids_germany_monthly_air_temp_mean_\"\n",
    "prec_file_prefix = \"grids_germany_monthly_precipitation_\"\n",
    "\n",
    "file_extension = \".asc\""
   ]
  },
  {
   "cell_type": "code",
   "execution_count": 5,
   "metadata": {},
   "outputs": [],
   "source": [
    "dt = datetime(2022, 1, 1)\n",
    "T_mean, header_info = read_asc_file(f\"{temp_save_dir}/{temp_file_prefix}{dt.strftime('%Y%m')}{file_extension}\")\n",
    "prec_sum, _ = read_asc_file(f\"{prec_save_dir}/{prec_file_prefix}{dt.strftime('%Y%m')}{file_extension}\")"
   ]
  },
  {
   "cell_type": "code",
   "execution_count": 6,
   "metadata": {},
   "outputs": [
    {
     "data": {
      "text/plain": [
       "{'ncols': 654,\n",
       " 'nrows': 866,\n",
       " 'xllcorner': 3280414.711633467,\n",
       " 'yllcorner': 5237500.62890625,\n",
       " 'cellsize': 1000.0,\n",
       " 'nodata_value': -999.0}"
      ]
     },
     "execution_count": 6,
     "metadata": {},
     "output_type": "execute_result"
    }
   ],
   "source": [
    "header_info"
   ]
  },
  {
   "cell_type": "code",
   "execution_count": 7,
   "metadata": {},
   "outputs": [
    {
     "data": {
      "text/plain": [
       "array([[nan, nan, nan, ..., nan, nan, nan],\n",
       "       [nan, nan, nan, ..., nan, nan, nan],\n",
       "       [nan, nan, nan, ..., nan, nan, nan],\n",
       "       ...,\n",
       "       [nan, nan, nan, ..., nan, nan, nan],\n",
       "       [nan, nan, nan, ..., nan, nan, nan],\n",
       "       [nan, nan, nan, ..., nan, nan, nan]])"
      ]
     },
     "execution_count": 7,
     "metadata": {},
     "output_type": "execute_result"
    }
   ],
   "source": [
    "T_mean"
   ]
  },
  {
   "cell_type": "code",
   "execution_count": 8,
   "metadata": {},
   "outputs": [
    {
     "data": {
      "text/plain": [
       "array([[nan, nan, nan, ..., nan, nan, nan],\n",
       "       [nan, nan, nan, ..., nan, nan, nan],\n",
       "       [nan, nan, nan, ..., nan, nan, nan],\n",
       "       ...,\n",
       "       [nan, nan, nan, ..., nan, nan, nan],\n",
       "       [nan, nan, nan, ..., nan, nan, nan],\n",
       "       [nan, nan, nan, ..., nan, nan, nan]])"
      ]
     },
     "execution_count": 8,
     "metadata": {},
     "output_type": "execute_result"
    }
   ],
   "source": [
    "prec_sum"
   ]
  },
  {
   "cell_type": "markdown",
   "metadata": {},
   "source": [
    "### Calculate PET (Thornthwaite)"
   ]
  },
  {
   "cell_type": "code",
   "execution_count": 9,
   "metadata": {},
   "outputs": [],
   "source": [
    "def estimate_pet_tw(temperature):\n",
    "    \"\"\"Estimates PET using the Thornthwaite equation.\"\"\"\n",
    "    # This is a simplified example; actual implementation may vary\n",
    "    # depending on your exact needs and temperature input\n",
    "    I = (temperature / 5.0) ** 1.514\n",
    "    a = (6.75e-7 * I ** 3) - (7.71e-5 * I ** 2) + (1.792e-2 * I) + 0.49239\n",
    "    PET = 16 * ((10 * temperature / I) ** a)\n",
    "    return PET"
   ]
  },
  {
   "cell_type": "code",
   "execution_count": 10,
   "metadata": {},
   "outputs": [
    {
     "name": "stderr",
     "output_type": "stream",
     "text": [
      "/tmp/ipykernel_27603/2166093233.py:5: RuntimeWarning: invalid value encountered in power\n",
      "  I = (temperature / 5.0) ** 1.514\n",
      "/tmp/ipykernel_27603/2166093233.py:7: RuntimeWarning: invalid value encountered in divide\n",
      "  PET = 16 * ((10 * temperature / I) ** a)\n"
     ]
    },
    {
     "data": {
      "text/plain": [
       "array([[nan, nan, nan, ..., nan, nan, nan],\n",
       "       [nan, nan, nan, ..., nan, nan, nan],\n",
       "       [nan, nan, nan, ..., nan, nan, nan],\n",
       "       ...,\n",
       "       [nan, nan, nan, ..., nan, nan, nan],\n",
       "       [nan, nan, nan, ..., nan, nan, nan],\n",
       "       [nan, nan, nan, ..., nan, nan, nan]])"
      ]
     },
     "execution_count": 10,
     "metadata": {},
     "output_type": "execute_result"
    }
   ],
   "source": [
    "pet_tw = estimate_pet_tw(T_mean)\n",
    "pet_tw"
   ]
  },
  {
   "cell_type": "code",
   "execution_count": 11,
   "metadata": {},
   "outputs": [],
   "source": [
    "from scipy import stats"
   ]
  },
  {
   "cell_type": "code",
   "execution_count": 12,
   "metadata": {},
   "outputs": [],
   "source": [
    "def calculate_spei(precipitation, pet, header_info):\n",
    "    \"\"\"Calculates SPEI on a basic level.\"\"\"\n",
    "    diff = precipitation - pet\n",
    "    # Fit to a distribution, e.g., Pearson type III, Gamma, or others\n",
    "    # This step is highly dependent on your dataset and needs\n",
    "    params = stats.gamma.fit(diff[~np.isnan(diff)])  # Example with Gamma distribution\n",
    "    # Calculate the cumulative distribution function (CDF) value for each difference\n",
    "    cdf = stats.gamma.cdf(diff, *params)\n",
    "    # Transform to the standard normal variable (z-score)\n",
    "    spei = stats.norm.ppf(cdf)\n",
    "    # Replace nan with NODATA_VALUE\n",
    "    spei = np.where(np.isnan(spei), header_info['nodata_value'], spei) \n",
    "    return spei"
   ]
  },
  {
   "cell_type": "code",
   "execution_count": 13,
   "metadata": {},
   "outputs": [
    {
     "data": {
      "text/plain": [
       "array([[-999., -999., -999., ..., -999., -999., -999.],\n",
       "       [-999., -999., -999., ..., -999., -999., -999.],\n",
       "       [-999., -999., -999., ..., -999., -999., -999.],\n",
       "       ...,\n",
       "       [-999., -999., -999., ..., -999., -999., -999.],\n",
       "       [-999., -999., -999., ..., -999., -999., -999.],\n",
       "       [-999., -999., -999., ..., -999., -999., -999.]])"
      ]
     },
     "execution_count": 13,
     "metadata": {},
     "output_type": "execute_result"
    }
   ],
   "source": [
    "spei_tw = calculate_spei(prec_sum, pet_tw, header_info)\n",
    "spei_tw"
   ]
  },
  {
   "cell_type": "markdown",
   "metadata": {},
   "source": [
    "### Save SPEI values as .asc file (Thornthwaite)"
   ]
  },
  {
   "cell_type": "code",
   "execution_count": 14,
   "metadata": {},
   "outputs": [],
   "source": [
    "def write_asc_file(data, filename, header_info):\n",
    "    \"\"\"Writes data to an .asc file using the provided header information.\"\"\"\n",
    "     \n",
    "    try:\n",
    "        with open(filename, 'w') as file:\n",
    "            file.write(f\"NCOLS {header_info['ncols']}\\n\")\n",
    "            file.write(f\"NROWS {header_info['nrows']}\\n\")\n",
    "            file.write(f\"XLLCORNER {header_info['xllcorner']}\\n\")\n",
    "            file.write(f\"YLLCORNER {header_info['yllcorner']}\\n\")\n",
    "            file.write(f\"CELLSIZE {header_info['cellsize']}\\n\")\n",
    "            file.write(f\"NODATA_VALUE {header_info['nodata_value']}\\n\")\n",
    "            np.savetxt(file, data, fmt=\"%.4f\")\n",
    "            return True\n",
    "    except Exception as e:\n",
    "        print(f\"Failed to save file '{filename}'. Exception: '{e}'\")\n",
    "        return False"
   ]
  },
  {
   "cell_type": "code",
   "execution_count": 15,
   "metadata": {},
   "outputs": [
    {
     "data": {
      "text/plain": [
       "True"
      ]
     },
     "execution_count": 15,
     "metadata": {},
     "output_type": "execute_result"
    }
   ],
   "source": [
    "write_asc_file(spei_tw, f\"output/spei_tw_{dt.strftime('%Y%m')}.asc\", header_info)"
   ]
  },
  {
   "cell_type": "markdown",
   "metadata": {},
   "source": [
    "-----"
   ]
  },
  {
   "cell_type": "markdown",
   "metadata": {},
   "source": [
    "# Estimate PET using FAO-56-Penman-Monteith"
   ]
  },
  {
   "cell_type": "code",
   "execution_count": 16,
   "metadata": {},
   "outputs": [],
   "source": [
    "def estimate_svp(T):\n",
    "    \"\"\"Calculate the estimated saturation vapor pressure (in millibars) for a given temperature (in Celsius) using the Magnus formula.\"\"\"\n",
    "    return 6.112 * np.exp((17.67 * T) / (T + 243.5))\n",
    "    # return 0.61078 * np.exp(17.269388 * (T) / (T - 35.86))"
   ]
  },
  {
   "cell_type": "code",
   "execution_count": 17,
   "metadata": {},
   "outputs": [],
   "source": [
    "def estimate_net_radiation(Rs_kwh, T_max, T_min, es_mb):\n",
    "    \"\"\"\n",
    "    Estimate net radiation using a simplified approach and saturation vapor pressure in millibars.\n",
    "    \n",
    "    Parameters:\n",
    "    - Rs_kwh: Daily solar radiation in kWh/m^2.\n",
    "    - T_max, T_min: Daily maximum and minimum temperatures in degrees Celsius.\n",
    "    - es_mb: Saturation vapor pressure in millibars.\n",
    "    \n",
    "    Returns:\n",
    "    - Rn: Net radiation in MJ/m^2/day.\n",
    "    \"\"\"\n",
    "    # Constants\n",
    "    sigma = 4.903e-9  # Stefan-Boltzmann constant (MJ K⁻⁴ m⁻² day⁻¹)\n",
    "    albedo = 0.23  # Reflectivity of the surface, common value for grass\n",
    "    \n",
    "    # Convert solar radiation from kWh/m² to MJ/m⁻²/day⁻¹\n",
    "    Rs = Rs_kwh * 3.6\n",
    "    \n",
    "    # Convert saturation vapor pressure from millibars to kPa\n",
    "    es_kpa = es_mb * 0.1\n",
    "    \n",
    "    # Estimate net shortwave radiation\n",
    "    Rns = (1 - albedo) * Rs\n",
    "    \n",
    "    # Estimate net longwave radiation using saturation vapor pressure as a proxy\n",
    "    T_max_K = T_max + 273.15  # Convert to Kelvin\n",
    "    T_min_K = T_min + 273.15  # Convert to Kelvin\n",
    "    Rnl = sigma * ((T_max_K**4 + T_min_K**4) / 2) * (0.34 - 0.14 * np.sqrt(es_kpa)) * (1.35 * (Rs / (Rs_kwh * 3.6)) - 0.35)\n",
    "    \n",
    "    # Net radiation\n",
    "    Rn = Rns - Rnl\n",
    "    \n",
    "    return Rn"
   ]
  },
  {
   "cell_type": "code",
   "execution_count": 18,
   "metadata": {},
   "outputs": [],
   "source": [
    "def estimate_dew_point(T_min, T_max):\n",
    "    \"\"\"\n",
    "    Enhanced approximation of the dew point using the maximum and minimum temperatures.\n",
    "    This method assumes that the dew point is more accurately estimated by considering\n",
    "    the daily temperature range.\n",
    "    \n",
    "    Parameters:\n",
    "    - T_max: Maximum temperature in Celsius\n",
    "    - T_min: Minimum temperature in Celsius\n",
    "    \"\"\"\n",
    "    # Calculate the average daily range\n",
    "    daily_range = T_max - T_min\n",
    "    # Approximation coefficent\n",
    "    adjustment_factor = 0.2  # TODO: get real value\n",
    "    # Calculate the enhanced dew point estimate\n",
    "    T_dew = T_min + adjustment_factor * daily_range\n",
    "    return T_dew\n"
   ]
  },
  {
   "cell_type": "code",
   "execution_count": 19,
   "metadata": {},
   "outputs": [],
   "source": [
    "def estimate_relative_humidity(T_min, T_max, T_mean):\n",
    "    \"\"\"\n",
    "    Calculate the relative humidity using the Magnus formula and an approximation for the dew point.\n",
    "\n",
    "    Parameters:\n",
    "    - T_max: Maximum temperature in Celsius\n",
    "    - T_mean: Mean temperature in Celsius\n",
    "    - T_min: Minimum temperature in Celsius (used to approximate dew point)\n",
    "    \"\"\"\n",
    "    # Approximate the dew point from the minimum temperature\n",
    "    T_dew = estimate_dew_point(T_min, T_max)\n",
    "    \n",
    "    # Calculate saturation vapor pressure at the dew point and at the mean temperature\n",
    "    E_s_dew = estimate_svp(T_dew)  # SVP at the dew point temperature\n",
    "    E_s_mean = estimate_svp(T_mean)  # SVP at the mean air temperature\n",
    "    \n",
    "    # Calculate and return the relative humidity as a percentage\n",
    "    RH = (E_s_dew / E_s_mean) * 100\n",
    "    return RH"
   ]
  },
  {
   "cell_type": "code",
   "execution_count": 20,
   "metadata": {},
   "outputs": [],
   "source": [
    "def estimate_pet_fao56pm(net_radiation, T_mean, RH, es_mb, u2=2.0, G=0, days_in_month=30.4583):\n",
    "    \"\"\"\n",
    "    Estimate PET using the FAO-56 Penman-Monteith equation.\n",
    "    \n",
    "    Parameters:\n",
    "    - Rn: Net radiation (MJ/m^2/day)\n",
    "    - T_mean: Mean air temperature (°C)\n",
    "    - RH: Relative Humidity (%)\n",
    "    - es_mb: Saturation vapor pressure (millibars)\n",
    "    - u2: Wind speed at 2m height (m/s), assuming an average if not provided\n",
    "    \n",
    "    Returns:\n",
    "    - PET: Potential Evapotranspiration (mm/month)\n",
    "    \"\"\"\n",
    "    # Constants\n",
    "    # albedo = 0.23\n",
    "    # sigma = 4.903e-9  # Stefan-Boltzmann constant (MJ/K^4/m^2/day)\n",
    "    es_kpa = es_mb * 0.1  # Convert es from millibars to kPa\n",
    "    ea_kpa = es_kpa * (RH / 100.0)  # Calculate actual vapor pressure\n",
    "\n",
    "    # Rn: Net radiation\n",
    "    Rn = (net_radiation * 3.6) #/ days_in_month\n",
    "    \n",
    "    # Calculate other required parameters\n",
    "    delta_val = (4098 * (0.6108 * np.exp((17.27 * T_mean) / (T_mean + 237.3)))) / ((T_mean + 237.3) ** 2)  # Slope of vapor pressure curve\n",
    "    gamma_val = 0.665 * 0.001 * 101.3  # Psychrometric constant, simplified assumption\n",
    "    \n",
    "    # FAO-56 Penman-Monteith equation\n",
    "    PET = (0.408 * delta_val * (Rn - G) + gamma_val * (900 / (T_mean + 273)) * u2 * (es_kpa - ea_kpa)) / (delta_val + gamma_val * (1 + 0.34 * u2))\n",
    "    \n",
    "    # Replace nan with NODATA_VALUE\n",
    "    PET = np.where(np.isnan(PET), header_info['nodata_value'], PET) \n",
    "\n",
    "    return PET\n"
   ]
  },
  {
   "cell_type": "markdown",
   "metadata": {},
   "source": [
    "### Load additional datasets"
   ]
  },
  {
   "cell_type": "code",
   "execution_count": 21,
   "metadata": {},
   "outputs": [],
   "source": [
    "global_radiation, _ = read_asc_file(\"/media/jtrvz/1tb/drought_data/radiation/dwd/global/grids_germany_monthly_radiation_global_202201.asc\")\n",
    "T_min, _ = read_asc_file(\"/media/jtrvz/1tb/drought_data/temperature/dwd/min/grids_germany_monthly_air_temp_min_202201.asc\")\n",
    "T_max, _ = read_asc_file(\"/media/jtrvz/1tb/drought_data/temperature/dwd/max/grids_germany_monthly_air_temp_max_202201.asc\")\n",
    "\n",
    "rel_humidity = estimate_relative_humidity(T_min, T_max, T_mean)\n",
    "svp = estimate_svp(T_mean)  # TODO: could also use T_min\n",
    "net_radiation = estimate_net_radiation(Rs_kwh=global_radiation, T_max=T_max, T_min=T_min, es_mb=svp)"
   ]
  },
  {
   "cell_type": "markdown",
   "metadata": {},
   "source": [
    "### Calculate PET (FAO-56-Penman-Monteith)"
   ]
  },
  {
   "cell_type": "code",
   "execution_count": 22,
   "metadata": {},
   "outputs": [
    {
     "data": {
      "text/plain": [
       "array([[-999., -999., -999., ..., -999., -999., -999.],\n",
       "       [-999., -999., -999., ..., -999., -999., -999.],\n",
       "       [-999., -999., -999., ..., -999., -999., -999.],\n",
       "       ...,\n",
       "       [-999., -999., -999., ..., -999., -999., -999.],\n",
       "       [-999., -999., -999., ..., -999., -999., -999.],\n",
       "       [-999., -999., -999., ..., -999., -999., -999.]])"
      ]
     },
     "execution_count": 22,
     "metadata": {},
     "output_type": "execute_result"
    }
   ],
   "source": [
    "pet_fao56pm = estimate_pet_fao56pm(net_radiation=net_radiation, T_mean=T_mean, RH=rel_humidity, es_mb=svp, u2=2)\n",
    "pet_fao56pm"
   ]
  },
  {
   "cell_type": "markdown",
   "metadata": {},
   "source": [
    "### Calculate SPEI (FAO-56-Penman-Monteith)"
   ]
  },
  {
   "cell_type": "code",
   "execution_count": 23,
   "metadata": {},
   "outputs": [
    {
     "data": {
      "text/plain": [
       "array([[-999., -999., -999., ..., -999., -999., -999.],\n",
       "       [-999., -999., -999., ..., -999., -999., -999.],\n",
       "       [-999., -999., -999., ..., -999., -999., -999.],\n",
       "       ...,\n",
       "       [-999., -999., -999., ..., -999., -999., -999.],\n",
       "       [-999., -999., -999., ..., -999., -999., -999.],\n",
       "       [-999., -999., -999., ..., -999., -999., -999.]])"
      ]
     },
     "execution_count": 23,
     "metadata": {},
     "output_type": "execute_result"
    }
   ],
   "source": [
    "spei_fao56pm = calculate_spei(prec_sum, pet_fao56pm, header_info)\n",
    "spei_fao56pm"
   ]
  },
  {
   "cell_type": "markdown",
   "metadata": {},
   "source": [
    "### Save SPEI values as .asc file (FAO-56-Penman-Monteith)"
   ]
  },
  {
   "cell_type": "code",
   "execution_count": 24,
   "metadata": {},
   "outputs": [
    {
     "data": {
      "text/plain": [
       "True"
      ]
     },
     "execution_count": 24,
     "metadata": {},
     "output_type": "execute_result"
    }
   ],
   "source": [
    "write_asc_file(spei_fao56pm, f\"output/spei_fao56pm_{dt.strftime('%Y%m')}.asc\", header_info)"
   ]
  },
  {
   "cell_type": "markdown",
   "metadata": {},
   "source": [
    "----"
   ]
  },
  {
   "cell_type": "markdown",
   "metadata": {},
   "source": [
    "### Difference between Thornthwaite and FAO-56-Penman-Monteith"
   ]
  },
  {
   "cell_type": "code",
   "execution_count": 25,
   "metadata": {},
   "outputs": [
    {
     "data": {
      "text/plain": [
       "True"
      ]
     },
     "execution_count": 25,
     "metadata": {},
     "output_type": "execute_result"
    }
   ],
   "source": [
    "diff_tw_pm = np.abs(spei_tw - spei_fao56pm)\n",
    "write_asc_file(diff_tw_pm, f\"output/diff_tw_pm_{dt.strftime('%Y%m')}.asc\", header_info)"
   ]
  },
  {
   "cell_type": "markdown",
   "metadata": {},
   "source": [
    "---"
   ]
  },
  {
   "cell_type": "markdown",
   "metadata": {},
   "source": [
    "# Estimate PET using the Priestley-Taylor equation"
   ]
  },
  {
   "cell_type": "code",
   "execution_count": 26,
   "metadata": {},
   "outputs": [],
   "source": [
    "def estimate_pet_pt(global_radiation, T_mean, G=0, gamma_val=0.066, alpha_val=1.26, days_in_month=30.4583,):\n",
    "    \"\"\"\n",
    "    Estimate PET using the Priestley-Taylor equation.\n",
    "    \n",
    "    Parameters:\n",
    "    - global_radiation: Global radiation sum (kWh/m²)\n",
    "    - T_mean: Mean air temperature (°C)\n",
    "    - days_in_month: Total days count of the to be analyzed month (average 30.4583)\n",
    "    - G: Ground heat flux (MJ/m⁻²/day⁻¹) (usually 0)\n",
    "    - gamma_val: Psychrometric constant (usually ~0.066)\n",
    "    - alpha_val: Empirical constant factor (usually 1.26)\n",
    "    \n",
    "    Returns:\n",
    "    - PET: Potential Evapotranspiration (mm/month) \n",
    "    \"\"\"\n",
    "\n",
    "    # Rn: Net radiation\n",
    "    Rn = (global_radiation * 3.6) #/ days_in_month\n",
    "\n",
    "    # Delta: Slope of vapor pressure curve\n",
    "    delta_val = (4098 * (0.6108 * np.exp((17.27 * T_mean) / (T_mean + 237.3)))) / \\\n",
    "        ((T_mean + 237.3) ** 2) \n",
    "\n",
    "    # PET = alpha_val * (delta_val * (Rn - G) /\n",
    "    #                    lambda_val * (delta_val + gamma_val))\n",
    "    \n",
    "    PET = alpha_val * (Rn - G) * (delta_val / delta_val + gamma_val)\n",
    "\n",
    "    # Replace nan with NODATA_VALUE\n",
    "    PET = np.where(np.isnan(PET), header_info['nodata_value'], PET)\n",
    "\n",
    "    return PET"
   ]
  },
  {
   "cell_type": "code",
   "execution_count": 27,
   "metadata": {},
   "outputs": [
    {
     "data": {
      "text/plain": [
       "array([[-999., -999., -999., ..., -999., -999., -999.],\n",
       "       [-999., -999., -999., ..., -999., -999., -999.],\n",
       "       [-999., -999., -999., ..., -999., -999., -999.],\n",
       "       ...,\n",
       "       [-999., -999., -999., ..., -999., -999., -999.],\n",
       "       [-999., -999., -999., ..., -999., -999., -999.],\n",
       "       [-999., -999., -999., ..., -999., -999., -999.]])"
      ]
     },
     "execution_count": 27,
     "metadata": {},
     "output_type": "execute_result"
    }
   ],
   "source": [
    "pet_pt = estimate_pet_pt(global_radiation=net_radiation, T_mean=T_mean)\n",
    "pet_pt"
   ]
  },
  {
   "cell_type": "markdown",
   "metadata": {},
   "source": [
    "### Calculate SPEI (Priestley-Taylor)"
   ]
  },
  {
   "cell_type": "code",
   "execution_count": 28,
   "metadata": {},
   "outputs": [
    {
     "data": {
      "text/plain": [
       "array([[-999., -999., -999., ..., -999., -999., -999.],\n",
       "       [-999., -999., -999., ..., -999., -999., -999.],\n",
       "       [-999., -999., -999., ..., -999., -999., -999.],\n",
       "       ...,\n",
       "       [-999., -999., -999., ..., -999., -999., -999.],\n",
       "       [-999., -999., -999., ..., -999., -999., -999.],\n",
       "       [-999., -999., -999., ..., -999., -999., -999.]])"
      ]
     },
     "execution_count": 28,
     "metadata": {},
     "output_type": "execute_result"
    }
   ],
   "source": [
    "spei_pt = calculate_spei(prec_sum, pet_pt, header_info)\n",
    "spei_pt"
   ]
  },
  {
   "cell_type": "markdown",
   "metadata": {},
   "source": [
    "### Save SPEI values as .asc file (Priestley-Taylor)"
   ]
  },
  {
   "cell_type": "code",
   "execution_count": 29,
   "metadata": {},
   "outputs": [
    {
     "data": {
      "text/plain": [
       "True"
      ]
     },
     "execution_count": 29,
     "metadata": {},
     "output_type": "execute_result"
    }
   ],
   "source": [
    "write_asc_file(spei_pt, f\"output/spei_pt_{dt.strftime('%Y%m')}.asc\", header_info)"
   ]
  },
  {
   "cell_type": "markdown",
   "metadata": {},
   "source": [
    "## Difference between FAO 56 Penman-Monteith and Priestley-Taylor equation"
   ]
  },
  {
   "cell_type": "code",
   "execution_count": 33,
   "metadata": {},
   "outputs": [
    {
     "data": {
      "text/plain": [
       "True"
      ]
     },
     "execution_count": 33,
     "metadata": {},
     "output_type": "execute_result"
    }
   ],
   "source": [
    "diff_fao56pm_pt = np.abs(spei_fao56pm - spei_pt)\n",
    "write_asc_file(diff_tw_pm, f\"output/1diff_fa056pm_pt_{dt.strftime('%Y%m')}.asc\", header_info)"
   ]
  },
  {
   "cell_type": "code",
   "execution_count": null,
   "metadata": {},
   "outputs": [],
   "source": []
  }
 ],
 "metadata": {
  "kernelspec": {
   "display_name": "venv",
   "language": "python",
   "name": "python3"
  },
  "language_info": {
   "codemirror_mode": {
    "name": "ipython",
    "version": 3
   },
   "file_extension": ".py",
   "mimetype": "text/x-python",
   "name": "python",
   "nbconvert_exporter": "python",
   "pygments_lexer": "ipython3",
   "version": "3.10.12"
  }
 },
 "nbformat": 4,
 "nbformat_minor": 2
}
